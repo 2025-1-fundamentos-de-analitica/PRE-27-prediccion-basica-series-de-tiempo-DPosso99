{
 "cells": [
  {
   "cell_type": "code",
   "execution_count": null,
   "id": "07e67298",
   "metadata": {},
   "outputs": [],
   "source": []
  },
  {
   "cell_type": "code",
   "execution_count": null,
   "id": "3ffa639e",
   "metadata": {},
   "outputs": [],
   "source": []
  },
  {
   "cell_type": "code",
   "execution_count": null,
   "id": "76ecb69e",
   "metadata": {},
   "outputs": [],
   "source": []
  }
 ],
 "metadata": {
  "language_info": {
   "name": "python"
  }
 },
 "nbformat": 4,
 "nbformat_minor": 5
}
